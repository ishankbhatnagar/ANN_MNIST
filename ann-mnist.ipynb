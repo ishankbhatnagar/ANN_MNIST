{
 "cells": [
  {
   "cell_type": "code",
   "execution_count": 1,
   "id": "691c7733",
   "metadata": {
    "_cell_guid": "b1076dfc-b9ad-4769-8c92-a6c4dae69d19",
    "_uuid": "8f2839f25d086af736a60e9eeb907d3b93b6e0e5",
    "execution": {
     "iopub.execute_input": "2023-10-08T20:09:41.291829Z",
     "iopub.status.busy": "2023-10-08T20:09:41.291402Z",
     "iopub.status.idle": "2023-10-08T20:09:45.147115Z",
     "shell.execute_reply": "2023-10-08T20:09:45.146089Z"
    },
    "papermill": {
     "duration": 3.865539,
     "end_time": "2023-10-08T20:09:45.149464",
     "exception": false,
     "start_time": "2023-10-08T20:09:41.283925",
     "status": "completed"
    },
    "tags": []
   },
   "outputs": [],
   "source": [
    "import torch\n",
    "from torch import nn\n",
    "from torch.nn import functional as F\n",
    "\n",
    "from torch.utils.data import DataLoader \n",
    "from torchvision import datasets \n",
    "import torchvision.transforms as T \n",
    "import numpy as np\n",
    "import matplotlib.pyplot as plt\n",
    "from tqdm import tqdm"
   ]
  },
  {
   "cell_type": "code",
   "execution_count": 2,
   "id": "3ad4d494",
   "metadata": {
    "execution": {
     "iopub.execute_input": "2023-10-08T20:09:45.161894Z",
     "iopub.status.busy": "2023-10-08T20:09:45.161428Z",
     "iopub.status.idle": "2023-10-08T20:09:46.883890Z",
     "shell.execute_reply": "2023-10-08T20:09:46.882780Z"
    },
    "papermill": {
     "duration": 1.731292,
     "end_time": "2023-10-08T20:09:46.886303",
     "exception": false,
     "start_time": "2023-10-08T20:09:45.155011",
     "status": "completed"
    },
    "tags": []
   },
   "outputs": [
    {
     "name": "stdout",
     "output_type": "stream",
     "text": [
      "Downloading http://yann.lecun.com/exdb/mnist/train-images-idx3-ubyte.gz\n",
      "Downloading http://yann.lecun.com/exdb/mnist/train-images-idx3-ubyte.gz to ./MNIST/raw/train-images-idx3-ubyte.gz\n"
     ]
    },
    {
     "name": "stderr",
     "output_type": "stream",
     "text": [
      "100%|██████████| 9912422/9912422 [00:00<00:00, 92018510.17it/s]\n"
     ]
    },
    {
     "name": "stdout",
     "output_type": "stream",
     "text": [
      "Extracting ./MNIST/raw/train-images-idx3-ubyte.gz to ./MNIST/raw\n",
      "\n",
      "Downloading http://yann.lecun.com/exdb/mnist/train-labels-idx1-ubyte.gz\n",
      "Downloading http://yann.lecun.com/exdb/mnist/train-labels-idx1-ubyte.gz to ./MNIST/raw/train-labels-idx1-ubyte.gz\n"
     ]
    },
    {
     "name": "stderr",
     "output_type": "stream",
     "text": [
      "100%|██████████| 28881/28881 [00:00<00:00, 40635925.47it/s]\n"
     ]
    },
    {
     "name": "stdout",
     "output_type": "stream",
     "text": [
      "Extracting ./MNIST/raw/train-labels-idx1-ubyte.gz to ./MNIST/raw\n",
      "\n",
      "Downloading http://yann.lecun.com/exdb/mnist/t10k-images-idx3-ubyte.gz\n",
      "Downloading http://yann.lecun.com/exdb/mnist/t10k-images-idx3-ubyte.gz to ./MNIST/raw/t10k-images-idx3-ubyte.gz\n"
     ]
    },
    {
     "name": "stderr",
     "output_type": "stream",
     "text": [
      "100%|██████████| 1648877/1648877 [00:00<00:00, 21734143.49it/s]\n"
     ]
    },
    {
     "name": "stdout",
     "output_type": "stream",
     "text": [
      "Extracting ./MNIST/raw/t10k-images-idx3-ubyte.gz to ./MNIST/raw\n",
      "\n",
      "Downloading http://yann.lecun.com/exdb/mnist/t10k-labels-idx1-ubyte.gz\n",
      "Downloading http://yann.lecun.com/exdb/mnist/t10k-labels-idx1-ubyte.gz to ./MNIST/raw/t10k-labels-idx1-ubyte.gz\n"
     ]
    },
    {
     "name": "stderr",
     "output_type": "stream",
     "text": [
      "100%|██████████| 4542/4542 [00:00<00:00, 7476659.64it/s]\n"
     ]
    },
    {
     "name": "stdout",
     "output_type": "stream",
     "text": [
      "Extracting ./MNIST/raw/t10k-labels-idx1-ubyte.gz to ./MNIST/raw\n",
      "\n"
     ]
    }
   ],
   "source": [
    "mytransform = T.ToTensor() \n",
    "\n",
    "train_data = datasets.MNIST(root = './', download=True, train = True, transform = mytransform)\n",
    "test_data = datasets.MNIST(root = './', download=True, train = False, transform = mytransform)"
   ]
  },
  {
   "cell_type": "code",
   "execution_count": 3,
   "id": "4eaf2c29",
   "metadata": {
    "execution": {
     "iopub.execute_input": "2023-10-08T20:09:46.900422Z",
     "iopub.status.busy": "2023-10-08T20:09:46.900056Z",
     "iopub.status.idle": "2023-10-08T20:09:46.945203Z",
     "shell.execute_reply": "2023-10-08T20:09:46.944350Z"
    },
    "papermill": {
     "duration": 0.054761,
     "end_time": "2023-10-08T20:09:46.947334",
     "exception": false,
     "start_time": "2023-10-08T20:09:46.892573",
     "status": "completed"
    },
    "tags": []
   },
   "outputs": [
    {
     "data": {
      "text/plain": [
       "torch.Size([1, 28, 28])"
      ]
     },
     "execution_count": 3,
     "metadata": {},
     "output_type": "execute_result"
    }
   ],
   "source": [
    "img, label = train_data[0]\n",
    "img.shape"
   ]
  },
  {
   "cell_type": "code",
   "execution_count": 4,
   "id": "59b994cc",
   "metadata": {
    "execution": {
     "iopub.execute_input": "2023-10-08T20:09:46.961173Z",
     "iopub.status.busy": "2023-10-08T20:09:46.960839Z",
     "iopub.status.idle": "2023-10-08T20:09:47.068181Z",
     "shell.execute_reply": "2023-10-08T20:09:47.066903Z"
    },
    "papermill": {
     "duration": 0.117945,
     "end_time": "2023-10-08T20:09:47.071419",
     "exception": false,
     "start_time": "2023-10-08T20:09:46.953474",
     "status": "completed"
    },
    "tags": []
   },
   "outputs": [
    {
     "data": {
      "image/png": "[encoded data removed]",
      "text/plain": [
       "<Figure size 640x480 with 1 Axes>"
      ]
     },
     "metadata": {},
     "output_type": "display_data"
    }
   ],
   "source": [
    "plt.imshow(img.reshape(28,28), cmap = 'gist_yarg');\n",
    "plt.axis('off');"
   ]
  },
  {
   "cell_type": "code",
   "execution_count": 5,
   "id": "8ec5cc2c",
   "metadata": {
    "execution": {
     "iopub.execute_input": "2023-10-08T20:09:47.099628Z",
     "iopub.status.busy": "2023-10-08T20:09:47.098130Z",
     "iopub.status.idle": "2023-10-08T20:09:47.111031Z",
     "shell.execute_reply": "2023-10-08T20:09:47.109770Z"
    },
    "papermill": {
     "duration": 0.03239,
     "end_time": "2023-10-08T20:09:47.115816",
     "exception": false,
     "start_time": "2023-10-08T20:09:47.083426",
     "status": "completed"
    },
    "tags": []
   },
   "outputs": [],
   "source": [
    "from torch.utils.data import DataLoader\n",
    "torch.manual_seed(101)\n",
    "\n",
    "train_loader = DataLoader(train_data, batch_size = 100, shuffle=True)\n",
    "test_loader =  DataLoader(test_data,  batch_size = 500, shuffle=False) "
   ]
  },
  {
   "cell_type": "code",
   "execution_count": 6,
   "id": "e3925595",
   "metadata": {
    "execution": {
     "iopub.execute_input": "2023-10-08T20:09:47.142312Z",
     "iopub.status.busy": "2023-10-08T20:09:47.141705Z",
     "iopub.status.idle": "2023-10-08T20:09:47.150104Z",
     "shell.execute_reply": "2023-10-08T20:09:47.149177Z"
    },
    "papermill": {
     "duration": 0.024083,
     "end_time": "2023-10-08T20:09:47.152120",
     "exception": false,
     "start_time": "2023-10-08T20:09:47.128037",
     "status": "completed"
    },
    "tags": []
   },
   "outputs": [
    {
     "name": "stdout",
     "output_type": "stream",
     "text": [
      "Loader(train=<torch.utils.data.dataloader.DataLoader object at 0x7f1160a67a90>, test=<torch.utils.data.dataloader.DataLoader object at 0x7f1160a65300>)\n"
     ]
    }
   ],
   "source": [
    "from dataclasses import dataclass\n",
    "\n",
    "@dataclass\n",
    "class Loader:\n",
    "    train: DataLoader  \n",
    "    test:  DataLoader  \n",
    "    \n",
    "myloader = Loader(train = train_loader, test = test_loader)    \n",
    "print(myloader)"
   ]
  },
  {
   "cell_type": "code",
   "execution_count": 7,
   "id": "49c8b2ed",
   "metadata": {
    "execution": {
     "iopub.execute_input": "2023-10-08T20:09:47.167164Z",
     "iopub.status.busy": "2023-10-08T20:09:47.166422Z",
     "iopub.status.idle": "2023-10-08T20:09:47.213231Z",
     "shell.execute_reply": "2023-10-08T20:09:47.212412Z"
    },
    "papermill": {
     "duration": 0.056451,
     "end_time": "2023-10-08T20:09:47.215100",
     "exception": false,
     "start_time": "2023-10-08T20:09:47.158649",
     "status": "completed"
    },
    "tags": []
   },
   "outputs": [
    {
     "data": {
      "text/plain": [
       "torch.Size([100, 1, 28, 28])"
      ]
     },
     "execution_count": 7,
     "metadata": {},
     "output_type": "execute_result"
    }
   ],
   "source": [
    "for img, label in myloader.train:\n",
    "    break \n",
    "img.shape "
   ]
  },
  {
   "cell_type": "code",
   "execution_count": 8,
   "id": "217d2ce4",
   "metadata": {
    "execution": {
     "iopub.execute_input": "2023-10-08T20:09:47.230589Z",
     "iopub.status.busy": "2023-10-08T20:09:47.229886Z",
     "iopub.status.idle": "2023-10-08T20:09:47.239785Z",
     "shell.execute_reply": "2023-10-08T20:09:47.238332Z"
    },
    "papermill": {
     "duration": 0.020305,
     "end_time": "2023-10-08T20:09:47.242057",
     "exception": false,
     "start_time": "2023-10-08T20:09:47.221752",
     "status": "completed"
    },
    "tags": []
   },
   "outputs": [
    {
     "data": {
      "text/plain": [
       "(50, 1, 28, 28)"
      ]
     },
     "execution_count": 8,
     "metadata": {},
     "output_type": "execute_result"
    }
   ],
   "source": [
    "myimages = img[:50].numpy()\n",
    "myimages.shape"
   ]
  },
  {
   "cell_type": "code",
   "execution_count": 9,
   "id": "7f39550d",
   "metadata": {
    "execution": {
     "iopub.execute_input": "2023-10-08T20:09:47.257005Z",
     "iopub.status.busy": "2023-10-08T20:09:47.256636Z",
     "iopub.status.idle": "2023-10-08T20:09:47.263260Z",
     "shell.execute_reply": "2023-10-08T20:09:47.262226Z"
    },
    "papermill": {
     "duration": 0.016516,
     "end_time": "2023-10-08T20:09:47.265300",
     "exception": false,
     "start_time": "2023-10-08T20:09:47.248784",
     "status": "completed"
    },
    "tags": []
   },
   "outputs": [
    {
     "data": {
      "text/plain": [
       "(1, 28, 28)"
      ]
     },
     "execution_count": 9,
     "metadata": {},
     "output_type": "execute_result"
    }
   ],
   "source": [
    "myimages[0].shape"
   ]
  },
  {
   "cell_type": "code",
   "execution_count": 10,
   "id": "99ec64f4",
   "metadata": {
    "execution": {
     "iopub.execute_input": "2023-10-08T20:09:47.280904Z",
     "iopub.status.busy": "2023-10-08T20:09:47.280087Z",
     "iopub.status.idle": "2023-10-08T20:09:47.287087Z",
     "shell.execute_reply": "2023-10-08T20:09:47.286036Z"
    },
    "papermill": {
     "duration": 0.016961,
     "end_time": "2023-10-08T20:09:47.289213",
     "exception": false,
     "start_time": "2023-10-08T20:09:47.272252",
     "status": "completed"
    },
    "tags": []
   },
   "outputs": [
    {
     "data": {
      "text/plain": [
       "(28, 28, 1)"
      ]
     },
     "execution_count": 10,
     "metadata": {},
     "output_type": "execute_result"
    }
   ],
   "source": [
    "myimages[0].transpose(1,2,0).shape"
   ]
  },
  {
   "cell_type": "code",
   "execution_count": 11,
   "id": "cb4e7f0a",
   "metadata": {
    "execution": {
     "iopub.execute_input": "2023-10-08T20:09:47.304475Z",
     "iopub.status.busy": "2023-10-08T20:09:47.304126Z",
     "iopub.status.idle": "2023-10-08T20:09:48.769115Z",
     "shell.execute_reply": "2023-10-08T20:09:48.767866Z"
    },
    "papermill": {
     "duration": 1.475446,
     "end_time": "2023-10-08T20:09:48.771473",
     "exception": false,
     "start_time": "2023-10-08T20:09:47.296027",
     "status": "completed"
    },
    "tags": []
   },
   "outputs": [
    {
     "data": {
      "image/png": "[encoded data removed]",
      "text/plain": [
       "<Figure size 800x400 with 50 Axes>"
      ]
     },
     "metadata": {},
     "output_type": "display_data"
    }
   ],
   "source": [
    "fig, ax = plt.subplots(nrows = 5, ncols = 10, figsize=(8,4), subplot_kw={'xticks': [], 'yticks': []})\n",
    "for row in range(0,5):\n",
    "    for col in range(0,10):\n",
    "        myid = (10*row) + col \n",
    "        \n",
    "        ax[row,col].imshow( myimages[myid].transpose(1,2,0), cmap = 'gist_yarg' ) \n",
    "        ax[row,col].axis('off')"
   ]
  },
  {
   "cell_type": "code",
   "execution_count": 12,
   "id": "1c136e17",
   "metadata": {
    "execution": {
     "iopub.execute_input": "2023-10-08T20:09:48.789994Z",
     "iopub.status.busy": "2023-10-08T20:09:48.789611Z",
     "iopub.status.idle": "2023-10-08T20:09:48.796860Z",
     "shell.execute_reply": "2023-10-08T20:09:48.795732Z"
    },
    "papermill": {
     "duration": 0.018807,
     "end_time": "2023-10-08T20:09:48.798869",
     "exception": false,
     "start_time": "2023-10-08T20:09:48.780062",
     "status": "completed"
    },
    "tags": []
   },
   "outputs": [],
   "source": [
    "class MultilayerPerceptron(nn.Module):\n",
    "    \n",
    "    def __init__(self, in_features = 784, out_features=10):\n",
    "        \n",
    "        super(MultilayerPerceptron, self).__init__()\n",
    "        \n",
    "        self.fc1 = nn.Linear(in_features, 120)\n",
    "        self.fc2 = nn.Linear(120, 84)\n",
    "        self.fc3 = nn.Linear(84, out_features)\n",
    "            \n",
    "    def forward(self, X):\n",
    "        \n",
    "        X = F.relu(self.fc1(X)) \n",
    "        X = F.relu(self.fc2(X)) \n",
    "        X = self.fc3(X)\n",
    "        \n",
    "        return F.log_softmax(X, dim = 1)"
   ]
  },
  {
   "cell_type": "code",
   "execution_count": 13,
   "id": "f120fc3b",
   "metadata": {
    "execution": {
     "iopub.execute_input": "2023-10-08T20:09:48.817105Z",
     "iopub.status.busy": "2023-10-08T20:09:48.816696Z",
     "iopub.status.idle": "2023-10-08T20:09:48.825023Z",
     "shell.execute_reply": "2023-10-08T20:09:48.823847Z"
    },
    "papermill": {
     "duration": 0.019798,
     "end_time": "2023-10-08T20:09:48.826969",
     "exception": false,
     "start_time": "2023-10-08T20:09:48.807171",
     "status": "completed"
    },
    "tags": []
   },
   "outputs": [
    {
     "data": {
      "text/plain": [
       "MultilayerPerceptron(\n",
       "  (fc1): Linear(in_features=784, out_features=120, bias=True)\n",
       "  (fc2): Linear(in_features=120, out_features=84, bias=True)\n",
       "  (fc3): Linear(in_features=84, out_features=10, bias=True)\n",
       ")"
      ]
     },
     "execution_count": 13,
     "metadata": {},
     "output_type": "execute_result"
    }
   ],
   "source": [
    "torch.manual_seed(101)\n",
    "\n",
    "mymodel = MultilayerPerceptron() \n",
    "mymodel"
   ]
  },
  {
   "cell_type": "code",
   "execution_count": 14,
   "id": "53ba162c",
   "metadata": {
    "execution": {
     "iopub.execute_input": "2023-10-08T20:09:48.845837Z",
     "iopub.status.busy": "2023-10-08T20:09:48.844885Z",
     "iopub.status.idle": "2023-10-08T20:09:48.850126Z",
     "shell.execute_reply": "2023-10-08T20:09:48.849138Z"
    },
    "papermill": {
     "duration": 0.016856,
     "end_time": "2023-10-08T20:09:48.852193",
     "exception": false,
     "start_time": "2023-10-08T20:09:48.835337",
     "status": "completed"
    },
    "tags": []
   },
   "outputs": [],
   "source": [
    "criterion = nn.CrossEntropyLoss()\n",
    "\n",
    "optimizer = torch.optim.Adam(mymodel.parameters(), lr = 1e-3)"
   ]
  },
  {
   "cell_type": "code",
   "execution_count": 15,
   "id": "1c2a79b8",
   "metadata": {
    "execution": {
     "iopub.execute_input": "2023-10-08T20:09:48.870383Z",
     "iopub.status.busy": "2023-10-08T20:09:48.870003Z",
     "iopub.status.idle": "2023-10-08T20:09:48.876539Z",
     "shell.execute_reply": "2023-10-08T20:09:48.875459Z"
    },
    "papermill": {
     "duration": 0.017843,
     "end_time": "2023-10-08T20:09:48.878343",
     "exception": false,
     "start_time": "2023-10-08T20:09:48.860500",
     "status": "completed"
    },
    "tags": []
   },
   "outputs": [
    {
     "data": {
      "text/plain": [
       "105214"
      ]
     },
     "execution_count": 15,
     "metadata": {},
     "output_type": "execute_result"
    }
   ],
   "source": [
    "params = [p.numel() for p in mymodel.parameters() if p.requires_grad]\n",
    "np.sum(params)"
   ]
  },
  {
   "cell_type": "code",
   "execution_count": 16,
   "id": "0ee4d4f1",
   "metadata": {
    "execution": {
     "iopub.execute_input": "2023-10-08T20:09:48.896643Z",
     "iopub.status.busy": "2023-10-08T20:09:48.896244Z",
     "iopub.status.idle": "2023-10-08T20:09:48.903001Z",
     "shell.execute_reply": "2023-10-08T20:09:48.902088Z"
    },
    "papermill": {
     "duration": 0.017873,
     "end_time": "2023-10-08T20:09:48.904755",
     "exception": false,
     "start_time": "2023-10-08T20:09:48.886882",
     "status": "completed"
    },
    "tags": []
   },
   "outputs": [
    {
     "data": {
      "text/plain": [
       "torch.Size([100, 784])"
      ]
     },
     "execution_count": 16,
     "metadata": {},
     "output_type": "execute_result"
    }
   ],
   "source": [
    "img.view(100,-1).shape"
   ]
  },
  {
   "cell_type": "code",
   "execution_count": 17,
   "id": "f21aace2",
   "metadata": {
    "execution": {
     "iopub.execute_input": "2023-10-08T20:09:48.923133Z",
     "iopub.status.busy": "2023-10-08T20:09:48.922769Z",
     "iopub.status.idle": "2023-10-08T20:09:48.958828Z",
     "shell.execute_reply": "2023-10-08T20:09:48.957840Z"
    },
    "papermill": {
     "duration": 0.047892,
     "end_time": "2023-10-08T20:09:48.961017",
     "exception": false,
     "start_time": "2023-10-08T20:09:48.913125",
     "status": "completed"
    },
    "tags": []
   },
   "outputs": [
    {
     "data": {
      "text/plain": [
       "torch.Size([100, 10])"
      ]
     },
     "execution_count": 17,
     "metadata": {},
     "output_type": "execute_result"
    }
   ],
   "source": [
    "y_pred = mymodel( img.view(100,-1) )\n",
    "y_pred.shape"
   ]
  },
  {
   "cell_type": "code",
   "execution_count": 18,
   "id": "cb573bec",
   "metadata": {
    "execution": {
     "iopub.execute_input": "2023-10-08T20:09:48.979939Z",
     "iopub.status.busy": "2023-10-08T20:09:48.979587Z",
     "iopub.status.idle": "2023-10-08T20:09:48.990026Z",
     "shell.execute_reply": "2023-10-08T20:09:48.989140Z"
    },
    "papermill": {
     "duration": 0.022515,
     "end_time": "2023-10-08T20:09:48.992157",
     "exception": false,
     "start_time": "2023-10-08T20:09:48.969642",
     "status": "completed"
    },
    "tags": []
   },
   "outputs": [
    {
     "data": {
      "text/plain": [
       "tensor([6, 2, 6, 8, 2, 2, 8, 7, 2, 2, 8, 6, 8, 2, 2, 2, 6, 8, 8, 2, 8, 2, 2, 2,\n",
       "        8, 8, 2, 2, 6, 6, 6, 2, 6, 2, 6, 6, 2, 8, 8, 2, 8, 2, 2, 8, 6, 6, 2, 8,\n",
       "        2, 2, 2, 2, 8, 8, 6, 2, 2, 6, 2, 2, 2, 8, 2, 2, 2, 2, 2, 8, 2, 2, 8, 2,\n",
       "        2, 8, 2, 6, 7, 2, 7, 6, 2, 8, 6, 2, 2, 6, 2, 8, 2, 2, 8, 6, 8, 2, 6, 2,\n",
       "        7, 8, 2, 2])"
      ]
     },
     "execution_count": 18,
     "metadata": {},
     "output_type": "execute_result"
    }
   ],
   "source": [
    "val, idx = torch.max(y_pred, dim=1) \n",
    "idx"
   ]
  },
  {
   "cell_type": "code",
   "execution_count": 19,
   "id": "7ab6f9f7",
   "metadata": {
    "execution": {
     "iopub.execute_input": "2023-10-08T20:09:49.012034Z",
     "iopub.status.busy": "2023-10-08T20:09:49.011667Z",
     "iopub.status.idle": "2023-10-08T20:09:49.016352Z",
     "shell.execute_reply": "2023-10-08T20:09:49.015457Z"
    },
    "papermill": {
     "duration": 0.016982,
     "end_time": "2023-10-08T20:09:49.018197",
     "exception": false,
     "start_time": "2023-10-08T20:09:49.001215",
     "status": "completed"
    },
    "tags": []
   },
   "outputs": [],
   "source": [
    "class Loss:\n",
    "    train: list = []\n",
    "    test: list = []\n",
    "    \n",
    "\n",
    "class Accuracy:\n",
    "    train: list = []\n",
    "    test: list = []"
   ]
  },
  {
   "cell_type": "code",
   "execution_count": 20,
   "id": "09a13d4f",
   "metadata": {
    "execution": {
     "iopub.execute_input": "2023-10-08T20:09:49.037933Z",
     "iopub.status.busy": "2023-10-08T20:09:49.037558Z",
     "iopub.status.idle": "2023-10-08T20:11:19.083563Z",
     "shell.execute_reply": "2023-10-08T20:11:19.082051Z"
    },
    "papermill": {
     "duration": 90.058785,
     "end_time": "2023-10-08T20:11:19.085921",
     "exception": false,
     "start_time": "2023-10-08T20:09:49.027136",
     "status": "completed"
    },
    "tags": []
   },
   "outputs": [
    {
     "name": "stderr",
     "output_type": "stream",
     "text": [
      "  0%|          | 0/10 [00:00<?, ?it/s]"
     ]
    },
    {
     "name": "stdout",
     "output_type": "stream",
     "text": [
      "Epoch: 0 batch: 200 loss: 0.2354 Accuracy: 83.2500 %\n",
      "Epoch: 0 batch: 400 loss: 0.3537 Accuracy: 87.5275 %\n",
      "Epoch: 0 batch: 600 loss: 0.1365 Accuracy: 89.5733 %\n"
     ]
    },
    {
     "name": "stderr",
     "output_type": "stream",
     "text": [
      " 10%|█         | 1/10 [00:09<01:22,  9.22s/it]"
     ]
    },
    {
     "name": "stdout",
     "output_type": "stream",
     "text": [
      "Epoch: 1 batch: 200 loss: 0.2447 Accuracy: 94.8050 %\n",
      "Epoch: 1 batch: 400 loss: 0.1454 Accuracy: 95.0625 %\n",
      "Epoch: 1 batch: 600 loss: 0.0730 Accuracy: 95.3567 %\n"
     ]
    },
    {
     "name": "stderr",
     "output_type": "stream",
     "text": [
      " 20%|██        | 2/10 [00:18<01:11,  9.00s/it]"
     ]
    },
    {
     "name": "stdout",
     "output_type": "stream",
     "text": [
      "Epoch: 2 batch: 200 loss: 0.0872 Accuracy: 96.5000 %\n",
      "Epoch: 2 batch: 400 loss: 0.0670 Accuracy: 96.5950 %\n",
      "Epoch: 2 batch: 600 loss: 0.0689 Accuracy: 96.6783 %\n"
     ]
    },
    {
     "name": "stderr",
     "output_type": "stream",
     "text": [
      " 30%|███       | 3/10 [00:27<01:02,  8.97s/it]"
     ]
    },
    {
     "name": "stdout",
     "output_type": "stream",
     "text": [
      "Epoch: 3 batch: 200 loss: 0.1164 Accuracy: 97.6650 %\n",
      "Epoch: 3 batch: 400 loss: 0.0581 Accuracy: 97.4850 %\n",
      "Epoch: 3 batch: 600 loss: 0.0319 Accuracy: 97.4967 %\n"
     ]
    },
    {
     "name": "stderr",
     "output_type": "stream",
     "text": [
      " 40%|████      | 4/10 [00:36<00:54,  9.02s/it]"
     ]
    },
    {
     "name": "stdout",
     "output_type": "stream",
     "text": [
      "Epoch: 4 batch: 200 loss: 0.1170 Accuracy: 98.1200 %\n",
      "Epoch: 4 batch: 400 loss: 0.0467 Accuracy: 97.9775 %\n",
      "Epoch: 4 batch: 600 loss: 0.0510 Accuracy: 97.9967 %\n"
     ]
    },
    {
     "name": "stderr",
     "output_type": "stream",
     "text": [
      " 50%|█████     | 5/10 [00:45<00:44,  8.99s/it]"
     ]
    },
    {
     "name": "stdout",
     "output_type": "stream",
     "text": [
      "Epoch: 5 batch: 200 loss: 0.0087 Accuracy: 98.3950 %\n",
      "Epoch: 5 batch: 400 loss: 0.0391 Accuracy: 98.5100 %\n",
      "Epoch: 5 batch: 600 loss: 0.0528 Accuracy: 98.4317 %\n"
     ]
    },
    {
     "name": "stderr",
     "output_type": "stream",
     "text": [
      " 60%|██████    | 6/10 [00:54<00:35,  8.99s/it]"
     ]
    },
    {
     "name": "stdout",
     "output_type": "stream",
     "text": [
      "Epoch: 6 batch: 200 loss: 0.0335 Accuracy: 98.8850 %\n",
      "Epoch: 6 batch: 400 loss: 0.0724 Accuracy: 98.7400 %\n",
      "Epoch: 6 batch: 600 loss: 0.0840 Accuracy: 98.7100 %\n"
     ]
    },
    {
     "name": "stderr",
     "output_type": "stream",
     "text": [
      " 70%|███████   | 7/10 [01:02<00:26,  8.97s/it]"
     ]
    },
    {
     "name": "stdout",
     "output_type": "stream",
     "text": [
      "Epoch: 7 batch: 200 loss: 0.0833 Accuracy: 99.2050 %\n",
      "Epoch: 7 batch: 400 loss: 0.0840 Accuracy: 99.0525 %\n",
      "Epoch: 7 batch: 600 loss: 0.0392 Accuracy: 98.9750 %\n"
     ]
    },
    {
     "name": "stderr",
     "output_type": "stream",
     "text": [
      " 80%|████████  | 8/10 [01:12<00:18,  9.03s/it]"
     ]
    },
    {
     "name": "stdout",
     "output_type": "stream",
     "text": [
      "Epoch: 8 batch: 200 loss: 0.0069 Accuracy: 99.2050 %\n",
      "Epoch: 8 batch: 400 loss: 0.0061 Accuracy: 99.1375 %\n",
      "Epoch: 8 batch: 600 loss: 0.0906 Accuracy: 99.1267 %\n"
     ]
    },
    {
     "name": "stderr",
     "output_type": "stream",
     "text": [
      " 90%|█████████ | 9/10 [01:21<00:08,  9.00s/it]"
     ]
    },
    {
     "name": "stdout",
     "output_type": "stream",
     "text": [
      "Epoch: 9 batch: 200 loss: 0.0048 Accuracy: 99.4350 %\n",
      "Epoch: 9 batch: 400 loss: 0.0101 Accuracy: 99.3250 %\n",
      "Epoch: 9 batch: 600 loss: 0.0152 Accuracy: 99.2967 %\n"
     ]
    },
    {
     "name": "stderr",
     "output_type": "stream",
     "text": [
      "100%|██████████| 10/10 [01:30<00:00,  9.00s/it]"
     ]
    },
    {
     "name": "stdout",
     "output_type": "stream",
     "text": [
      "CPU times: user 2min 16s, sys: 421 ms, total: 2min 16s\n",
      "Wall time: 1min 30s\n"
     ]
    },
    {
     "name": "stderr",
     "output_type": "stream",
     "text": [
      "\n"
     ]
    }
   ],
   "source": [
    "%%time\n",
    "\n",
    "epochs = 10\n",
    "for epoch in tqdm(range(epochs)):\n",
    "    train_corr = 0\n",
    "    test_corr = 0\n",
    "    \n",
    "    for batch, (img, label) in enumerate(myloader.train): \n",
    "        batch +=1\n",
    "        y_pred = mymodel( img.view(100,-1) ) \n",
    "        loss = criterion(y_pred, label)\n",
    "        \n",
    "        _, prediction = torch.max(y_pred,dim = 1)\n",
    "        train_corr += (prediction == label).sum() \n",
    "\n",
    "        \n",
    "        optimizer.zero_grad()\n",
    "        loss.backward()\n",
    "        optimizer.step()\n",
    "        \n",
    "\n",
    "        if batch%200 == 0:\n",
    "            acc = 100 * (train_corr.item() / (batch*100) ) \n",
    "            print( f'Epoch:{epoch:2d} batch: {batch:2d} loss: {loss.item():4.4f} Accuracy: {acc:4.4f} %' )\n",
    "\n",
    "    Loss.train.append( loss.item() )\n",
    "    accuracy = 100 * (train_corr.item() / (batch*100) ) \n",
    "    Accuracy.train.append( accuracy ) \n",
    "\n",
    "    \n",
    "    with torch.no_grad():\n",
    "        for batch, (img, label) in enumerate(myloader.test):\n",
    "            batch +=1\n",
    "            y_val = mymodel( img.view(500,-1) ) \n",
    "            _, predicted = torch.max( y_val, dim = 1)\n",
    "            test_corr += (predicted == label).sum()\n",
    "    \n",
    "    loss = criterion( y_val,label )\n",
    "    Loss.test.append( loss.item() ) \n",
    "    accuracy = 100 * (test_corr.item()/ (batch*500) ) \n",
    "    Accuracy.test.append( accuracy )"
   ]
  },
  {
   "cell_type": "code",
   "execution_count": 21,
   "id": "3cf5f64c",
   "metadata": {
    "execution": {
     "iopub.execute_input": "2023-10-08T20:11:19.111259Z",
     "iopub.status.busy": "2023-10-08T20:11:19.110899Z",
     "iopub.status.idle": "2023-10-08T20:11:19.519417Z",
     "shell.execute_reply": "2023-10-08T20:11:19.518320Z"
    },
    "papermill": {
     "duration": 0.423512,
     "end_time": "2023-10-08T20:11:19.521772",
     "exception": false,
     "start_time": "2023-10-08T20:11:19.098260",
     "status": "completed"
    },
    "tags": []
   },
   "outputs": [
    {
     "data": {
      "image/png": "[encoded data removed]",
      "text/plain": [
       "<Figure size 1200x400 with 2 Axes>"
      ]
     },
     "metadata": {},
     "output_type": "display_data"
    }
   ],
   "source": [
    "fig, ax = plt.subplots(nrows=1, ncols=2, figsize=(12,4))\n",
    "ax[0].plot(Loss.train, label = 'Training')\n",
    "ax[0].plot(Loss.test, label='test/validation')\n",
    "ax[0].set_ylabel('Loss', fontsize=16)\n",
    "\n",
    "\n",
    "ax[1].plot(Accuracy.train, label = 'Training')\n",
    "ax[1].plot(Accuracy.test, label='test/validation')\n",
    "ax[1].set_yticks(range(85,110,5))\n",
    "ax[1].axvline(x=2, color='gray', linestyle=':')\n",
    "ax[1].axhline(y=100, color='gray', linestyle=':')\n",
    "ax[1].set_ylabel('Accuracy (%)', fontsize=16)\n",
    "\n",
    "for myax in ax:\n",
    "    myax.set_xlabel('Epoch', fontsize=16)\n",
    "    myax.set_xticks(range(epochs))\n",
    "    myax.legend(frameon=False)"
   ]
  },
  {
   "cell_type": "code",
   "execution_count": 22,
   "id": "c9e2a546",
   "metadata": {
    "execution": {
     "iopub.execute_input": "2023-10-08T20:11:19.547956Z",
     "iopub.status.busy": "2023-10-08T20:11:19.547589Z",
     "iopub.status.idle": "2023-10-08T20:11:20.603059Z",
     "shell.execute_reply": "2023-10-08T20:11:20.602049Z"
    },
    "papermill": {
     "duration": 1.071392,
     "end_time": "2023-10-08T20:11:20.605252",
     "exception": false,
     "start_time": "2023-10-08T20:11:19.533860",
     "status": "completed"
    },
    "tags": []
   },
   "outputs": [
    {
     "name": "stdout",
     "output_type": "stream",
     "text": [
      "Test accuracy: = 97.6800 %\n"
     ]
    }
   ],
   "source": [
    "with torch.no_grad():\n",
    "    correct = 0\n",
    "    \n",
    "    for X, y_label in test_loader:\n",
    "            y_val = mymodel( X.view(X.shape[0],-1) ) \n",
    "            _, predicted = torch.max( y_val, dim = 1)\n",
    "            correct += (predicted == y_label).sum()\n",
    "\n",
    "print(f'Test accuracy: = {correct.item()*100/(len(test_data)):2.4f} %')"
   ]
  },
  {
   "cell_type": "code",
   "execution_count": 23,
   "id": "9d42b709",
   "metadata": {
    "execution": {
     "iopub.execute_input": "2023-10-08T20:11:20.631398Z",
     "iopub.status.busy": "2023-10-08T20:11:20.630428Z",
     "iopub.status.idle": "2023-10-08T20:11:22.104551Z",
     "shell.execute_reply": "2023-10-08T20:11:22.103318Z"
    },
    "papermill": {
     "duration": 1.489276,
     "end_time": "2023-10-08T20:11:22.106597",
     "exception": false,
     "start_time": "2023-10-08T20:11:20.617321",
     "status": "completed"
    },
    "tags": []
   },
   "outputs": [
    {
     "data": {
      "text/plain": [
       "array([[49,  0,  0,  1,  0,  0,  0,  0,  0,  0],\n",
       "       [ 0, 60,  0,  0,  0,  0,  0,  0,  0,  0],\n",
       "       [ 2,  0, 43,  1,  0,  0,  0,  1,  1,  0],\n",
       "       [ 0,  0,  0, 51,  0,  1,  0,  0,  0,  0],\n",
       "       [ 1,  0,  0,  0, 48,  0,  0,  0,  0,  1],\n",
       "       [ 1,  0,  0,  0,  0, 39,  1,  0,  0,  0],\n",
       "       [ 0,  0,  0,  1,  0,  1, 47,  0,  0,  0],\n",
       "       [ 0,  0,  0,  0,  0,  0,  0, 59,  0,  0],\n",
       "       [ 0,  0,  0,  0,  0,  0,  0,  0, 48,  0],\n",
       "       [ 0,  0,  0,  0,  1,  0,  0,  0,  0, 42]])"
      ]
     },
     "execution_count": 23,
     "metadata": {},
     "output_type": "execute_result"
    }
   ],
   "source": [
    "from sklearn.metrics import confusion_matrix  \n",
    "confusion_array = confusion_matrix(y_true = y_label,y_pred = predicted)\n",
    "confusion_array"
   ]
  },
  {
   "cell_type": "code",
   "execution_count": 24,
   "id": "f86ce3d3",
   "metadata": {
    "execution": {
     "iopub.execute_input": "2023-10-08T20:11:22.132426Z",
     "iopub.status.busy": "2023-10-08T20:11:22.131426Z",
     "iopub.status.idle": "2023-10-08T20:11:23.477602Z",
     "shell.execute_reply": "2023-10-08T20:11:23.476782Z"
    },
    "papermill": {
     "duration": 1.360953,
     "end_time": "2023-10-08T20:11:23.479383",
     "exception": false,
     "start_time": "2023-10-08T20:11:22.118430",
     "status": "completed"
    },
    "tags": []
   },
   "outputs": [
    {
     "data": {
      "text/plain": [
       "<Axes: >"
      ]
     },
     "execution_count": 24,
     "metadata": {},
     "output_type": "execute_result"
    },
    {
     "data": {
      "image/png": "[encoded data removed]",
      "text/plain": [
       "<Figure size 1000x700 with 2 Axes>"
      ]
     },
     "metadata": {},
     "output_type": "display_data"
    }
   ],
   "source": [
    "import pandas as pd\n",
    "import seaborn as sn\n",
    "df_cm = pd.DataFrame(confusion_array, range(10), range(10))\n",
    "plt.figure(figsize=(10,7))\n",
    "sn.set(font_scale=1.4) # for label size\n",
    "sn.heatmap(df_cm, annot=True, annot_kws={\"size\": 10})"
   ]
  }
 ],
 "metadata": {
  "kernelspec": {
   "display_name": "Python 3",
   "language": "python",
   "name": "python3"
  },
  "language_info": {
   "codemirror_mode": {
    "name": "ipython",
    "version": 3
   },
   "file_extension": ".py",
   "mimetype": "text/x-python",
   "name": "python",
   "nbconvert_exporter": "python",
   "pygments_lexer": "ipython3",
   "version": "3.10.12"
  },
  "papermill": {
   "default_parameters": {},
   "duration": 106.601532,
   "end_time": "2023-10-08T20:11:24.715888",
   "environment_variables": {},
   "exception": null,
   "input_path": "__notebook__.ipynb",
   "output_path": "__notebook__.ipynb",
   "parameters": {},
   "start_time": "2023-10-08T20:09:38.114356",
   "version": "2.4.0"
  }
 },
 "nbformat": 4,
 "nbformat_minor": 5
}
